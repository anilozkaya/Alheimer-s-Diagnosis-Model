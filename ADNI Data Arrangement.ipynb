{
 "cells": [
  {
   "cell_type": "code",
   "execution_count": null,
   "id": "261f9c76",
   "metadata": {},
   "outputs": [],
   "source": [
    "import pandas as pd\n",
    "import os\n",
    "import nibabel as nib\n",
    "import numpy as np\n",
    "import shutil"
   ]
  },
  {
   "cell_type": "code",
   "execution_count": null,
   "id": "3d5c3f0d",
   "metadata": {},
   "outputs": [],
   "source": [
    "#Creating csv for entire dataset\n",
    "\n",
    "img_name_list=[]\n",
    "label_list=[]\n",
    "img_labels=pd.read_csv(r'C:\\Users\\anilo\\Downloads\\ADNI1_Complete_1Yr_1.5T_4_30_2022.csv')  #Csv file for the data downloaded from ADNI\n",
    "\n",
    "for name in os.listdir(r'.\\ADNI1-Complete 1Yr 1.5T4'):\n",
    "    img_name_list.append(name)\n",
    "\n",
    "for i in range(0,image_count):\n",
    "    label=img_labels.iloc[i, 2]\n",
    "    label_list.append(label)   \n",
    "\n",
    "del img_name_list[-1]\n",
    "img_name_list.sort()"
   ]
  },
  {
   "cell_type": "code",
   "execution_count": null,
   "id": "4f90340d",
   "metadata": {},
   "outputs": [],
   "source": [
    "df = pd.DataFrame(list(zip(img_name_list,label_list)), columns =['img_file_name', 'label_name'])\n",
    "df.to_csv(r\"C:/Users/anilo/Downloads/Compressed/ADNI1-Complete 1Yr 1.5T4/ADNI.csv\", index=False) # create csv from df"
   ]
  },
  {
   "cell_type": "code",
   "execution_count": null,
   "id": "83d40fae",
   "metadata": {},
   "outputs": [],
   "source": [
    "#Splitting into sub-files according to the labels in the csv file\n",
    "\n",
    "image_count=2295  #Number of the images in dataset\n",
    "\n",
    "images_labels=pd.read_csv(r'C:/Users/anilo/Downloads/Compressed/ADNI1_Complete_1Yr_1.5T4/ADNI.csv')\n",
    "for i in range(0,image_count):\n",
    "    current=os.path.join(r\"./ADNI1_Complete_1Yr_1.5T4\",images_labels.iloc[i,0])\n",
    "    if images_labels.iloc[i,1]==\"AD\":\n",
    "        shutil.move(current, r'./ADNI1_Complete_1Yr_1.5T4/AD',images_labels.iloc[i,0])    \n",
    "    elif images_labels.iloc[i,1]==\"CN\":\n",
    "        shutil.move(current, r'./ADNI1_Complete_1Yr_1.5T4/CN',images_labels.iloc[i,0])    \n",
    "    elif images_labels.iloc[i,1]==\"MCI\":\n",
    "        shutil.move(current, r'./ADNI1_Complete_1Yr_1.5T4/MCI',images_labels.iloc[i,0])   \n",
    "    #elif images_labels.iloc[i,1]==\"New Class\":\n",
    "    #    shutil.move(current, r'./ADNI1_Complete_1Yr_1.5T4/New Class',images_labels.iloc[i,0])  \n",
    "\n",
    "    else: print(\"Error\")"
   ]
  }
 ],
 "metadata": {
  "kernelspec": {
   "display_name": "Python 3 (ipykernel)",
   "language": "python",
   "name": "python3"
  },
  "language_info": {
   "codemirror_mode": {
    "name": "ipython",
    "version": 3
   },
   "file_extension": ".py",
   "mimetype": "text/x-python",
   "name": "python",
   "nbconvert_exporter": "python",
   "pygments_lexer": "ipython3",
   "version": "3.9.7"
  }
 },
 "nbformat": 4,
 "nbformat_minor": 5
}
